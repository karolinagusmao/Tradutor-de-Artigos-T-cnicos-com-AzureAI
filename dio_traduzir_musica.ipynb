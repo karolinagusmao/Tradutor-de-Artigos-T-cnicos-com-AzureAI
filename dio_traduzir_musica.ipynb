{
  "nbformat": 4,
  "nbformat_minor": 0,
  "metadata": {
    "colab": {
      "provenance": []
    },
    "kernelspec": {
      "name": "python3",
      "display_name": "Python 3"
    },
    "language_info": {
      "name": "python"
    }
  },
  "cells": [
    {
      "cell_type": "code",
      "execution_count": 23,
      "metadata": {
        "colab": {
          "base_uri": "https://localhost:8080/"
        },
        "id": "yu5zMkUoHhLR",
        "outputId": "3b2797a8-abaf-4523-f8d0-049e30e49397"
      },
      "outputs": [
        {
          "output_type": "stream",
          "name": "stdout",
          "text": [
            "Requirement already satisfied: requests in /usr/local/lib/python3.10/dist-packages (2.32.3)\n",
            "Requirement already satisfied: python-docx in /usr/local/lib/python3.10/dist-packages (1.1.2)\n",
            "Requirement already satisfied: charset-normalizer<4,>=2 in /usr/local/lib/python3.10/dist-packages (from requests) (3.4.0)\n",
            "Requirement already satisfied: idna<4,>=2.5 in /usr/local/lib/python3.10/dist-packages (from requests) (3.10)\n",
            "Requirement already satisfied: urllib3<3,>=1.21.1 in /usr/local/lib/python3.10/dist-packages (from requests) (2.2.3)\n",
            "Requirement already satisfied: certifi>=2017.4.17 in /usr/local/lib/python3.10/dist-packages (from requests) (2024.8.30)\n",
            "Requirement already satisfied: lxml>=3.1.0 in /usr/local/lib/python3.10/dist-packages (from python-docx) (5.3.0)\n",
            "Requirement already satisfied: typing-extensions>=4.9.0 in /usr/local/lib/python3.10/dist-packages (from python-docx) (4.12.2)\n"
          ]
        }
      ],
      "source": [
        "!pip install requests python-docx"
      ]
    },
    {
      "cell_type": "code",
      "source": [
        "import requests\n",
        "from docx import Document\n",
        "import os\n",
        "\n",
        "subscription_key = \"9ckMB7Ze7ARXFsaL06YJlplMuYp3tB6OSR4GWjIrBVgeEDInMUkqJQQJ99AKACHYHv6XJ3w3AAAbACOG8MOU\"\n",
        "endpoint = 'https://api.cognitive.microsofttranslator.com'\n",
        "location = \"eastus2\"\n",
        "\n",
        "language_destination = 'pt-br'\n",
        "\n",
        "def translator_text(text, target_language):\n",
        "    path = '/translate'\n",
        "    constructed_url = endpoint + path\n",
        "    headers = {\n",
        "        'Ocp-Apim-Subscription-Key': subscription_key,\n",
        "        'Ocp-Apim-Subscription-Region': location,\n",
        "        'Content-type': 'application/json',\n",
        "        'X-ClientTraceId': str(os.urandom(16))\n",
        "    }\n",
        "    body = [{\n",
        "        'text': text\n",
        "    }]\n",
        "    params = {\n",
        "        'api-version': \"3.0\",\n",
        "        'from': 'en',\n",
        "        'to': target_language\n",
        "    }\n",
        "    request = requests.post(constructed_url, params=params, headers=headers, json=body)\n",
        "    response = request.json()\n",
        "    return response[0][\"translations\"][0][\"text\"]"
      ],
      "metadata": {
        "id": "pxX7pmAxI38S"
      },
      "execution_count": 24,
      "outputs": []
    },
    {
      "cell_type": "code",
      "source": [
        "translator_text(\"Hello, this is a test for the translation!\", language_destination)"
      ],
      "metadata": {
        "colab": {
          "base_uri": "https://localhost:8080/",
          "height": 35
        },
        "id": "f3NUsnpHNqeD",
        "outputId": "44e4b536-ff2f-4d78-b86e-1fdabea3a5a2"
      },
      "execution_count": 25,
      "outputs": [
        {
          "output_type": "execute_result",
          "data": {
            "text/plain": [
              "'Olá, este é um teste para a tradução!'"
            ],
            "application/vnd.google.colaboratory.intrinsic+json": {
              "type": "string"
            }
          },
          "metadata": {},
          "execution_count": 25
        }
      ]
    },
    {
      "cell_type": "code",
      "source": [
        "def translate_document(path):\n",
        "  document = Document(path)\n",
        "  full_text = []\n",
        "  for paragraph in document.paragraphs:\n",
        "    translated_text = translator_text(paragraph.text, language_destination)\n",
        "    full_text.append(translated_text)\n",
        "\n",
        "  translated_doc = Document()\n",
        "  for line in full_text:\n",
        "    print(line)\n",
        "    translated_doc.add_paragraph(line)\n",
        "\n",
        "  path_translated = path.replace(\".docx\",f\"_{language_destination}.docx\")\n",
        "  translated_doc.save(path_translated)\n",
        "  return path_translated\n"
      ],
      "metadata": {
        "id": "PkmdTP9ESst7"
      },
      "execution_count": 26,
      "outputs": []
    },
    {
      "cell_type": "code",
      "source": [
        "input_file = \"/content/musica.docx\"\n",
        "translate_document(input_file)"
      ],
      "metadata": {
        "colab": {
          "base_uri": "https://localhost:8080/",
          "height": 574
        },
        "id": "8jigjnjzUA0D",
        "outputId": "482670d3-832f-4c7d-bda5-ee13d00bf1b6"
      },
      "execution_count": 27,
      "outputs": [
        {
          "output_type": "stream",
          "name": "stdout",
          "text": [
            "Eu sei que você está em algum lugar lá fora, em algum lugar distante\n",
            "Eu quero você de volta, eu quero você de volta\n",
            "Meus vizinhos acham que sou louco, mas não entendem\n",
            "Você é tudo que eu tinha, você é tudo que eu tinha\n",
            "À noite, quando as estrelas iluminam meu quarto\n",
            "Eu sento sozinho\n",
            "Falando com a lua\n",
            "Tentando chegar até você\n",
            "Na esperança de que você esteja do outro lado falando comigo também\n",
            "Ou sou um tolo que se senta sozinho conversando com a lua?\n",
            "Ah\n",
            "Eu estou me sentindo como se eu fosse famoso, o assunto da cidade\n",
            "Eles dizem que eu enlouqueci, sim, eu enlouqueci\n",
            "Mas eles não sabem o que eu sei, porque quando o sol se põe\n",
            "Alguém está respondendo, sim, eles estão respondendo, oh\n",
            "À noite, quando as estrelas iluminam meu quarto\n",
            "Eu sento sozinho\n",
            "Falando com a lua\n",
            "Tentando chegar até você\n",
            "Na esperança de que você esteja do outro lado falando comigo também\n",
            "Ou sou um tolo que se senta sozinho conversando com a lua?\n",
            "Ah, ah, ah\n",
            "Você já me ouviu chamando?\n",
            "(Ah) oh-oh-oh (ah), oh-oh-oh (ah)\n",
            "Porque todas as noites eu estou falando com a lua\n",
            "Ainda tentando chegar até você\n",
            "Na esperança de que você esteja do outro lado falando comigo também\n",
            "Ou sou um tolo que se senta sozinho conversando com a lua?\n",
            "Ah\n",
            "Eu sei que você está em algum lugar lá fora, em algum lugar distante\n",
            "\n"
          ]
        },
        {
          "output_type": "execute_result",
          "data": {
            "text/plain": [
              "'/content/musica_pt-br.docx'"
            ],
            "application/vnd.google.colaboratory.intrinsic+json": {
              "type": "string"
            }
          },
          "metadata": {},
          "execution_count": 27
        }
      ]
    }
  ]
}
